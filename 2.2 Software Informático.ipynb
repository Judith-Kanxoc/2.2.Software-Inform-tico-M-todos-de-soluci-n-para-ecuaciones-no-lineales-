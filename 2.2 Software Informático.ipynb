{
 "cells": [
  {
   "cell_type": "markdown",
   "metadata": {},
   "source": [
    "# Metodos Numericos\n",
    "### Ingenieria en Sistemas Computacionales\n",
    "\n",
    "### Docente: MM. Jorger Pool Cel\n",
    "\n",
    "## Equipo:\n",
    "### Lourdes Judith Kanxoc Hau\n",
    "### Adrián Martín Herrera Tuz\n",
    "### Héctor Armín Ché Dzib\n",
    "\n",
    "### UNIDAD 2\n",
    "### 4°A\n",
    " "
   ]
  },
  {
   "cell_type": "markdown",
   "metadata": {},
   "source": [
    "## Método de secante"
   ]
  },
  {
   "cell_type": "code",
   "execution_count": 2,
   "metadata": {},
   "outputs": [
    {
     "name": "stdout",
     "output_type": "stream",
     "text": [
      "[xa ,\t xb , \t xc , \t tramo]\n",
      "[1.5    1.504  1.3736 0.1264]\n",
      "[1.3736 1.5    1.3658 0.0078]\n",
      "[1.3658e+00 1.3736e+00 1.3652e+00 5.2085e-04]\n",
      "raiz en:  1.3652321429167764\n"
     ]
    }
   ],
   "source": [
    "import numpy as np\n",
    "\n",
    "def secante_tabla(fx,xa,tolera):\n",
    "    dx = 4*tolera\n",
    "    xb = xa + dx\n",
    "    tramo = dx\n",
    "    tabla = []\n",
    "    while (tramo>=tolera):\n",
    "        fa = fx(xa)\n",
    "        fb = fx(xb)\n",
    "        xc = xa - fa*(xb-xa)/(fb-fa)\n",
    "        tramo = abs(xc-xa)\n",
    "        \n",
    "        tabla.append([xa,xb,xc,tramo])\n",
    "        xb = xa\n",
    "        xa = xc\n",
    "\n",
    "    tabla = np.array(tabla)\n",
    "    return(tabla)\n",
    "\n",
    "# PROGRAMA ---------------------\n",
    "# INGRESO\n",
    "fx = lambda x: x**3 + 4*x**2 - 10\n",
    "\n",
    "a  = 1\n",
    "b  = 2\n",
    "xa = 1.5\n",
    "tolera = 0.001\n",
    "tramos = 100\n",
    "\n",
    "# PROCEDIMIENTO\n",
    "tabla = secante_tabla(fx,xa,tolera)\n",
    "n = len(tabla)\n",
    "raiz = tabla[n-1,2]\n",
    "\n",
    "# SALIDA\n",
    "np.set_printoptions(precision=4)\n",
    "print('[xa ,\\t xb , \\t xc , \\t tramo]')\n",
    "for i in range(0,n,1):\n",
    "    print(tabla[i])\n",
    "print('raiz en: ', raiz)"
   ]
  },
  {
   "cell_type": "code",
   "execution_count": 3,
   "metadata": {},
   "outputs": [
    {
     "data": {
      "image/png": "[encoded data removed]",
      "text/plain": [
       "<Figure size 432x288 with 1 Axes>"
      ]
     },
     "metadata": {
      "needs_background": "light"
     },
     "output_type": "display_data"
    }
   ],
   "source": [
    "# GRAFICA\n",
    "import matplotlib.pyplot as plt\n",
    "\n",
    "# Calcula los puntos a graficar\n",
    "xi = np.linspace(a,b,tramos+1)\n",
    "fi = fx(xi)\n",
    "dx = (b-xa)/2\n",
    "pendiente = (fx(xa+dx)-fx(xa))/(xa+dx-xa)\n",
    "b0 = fx(xa) - pendiente*xa\n",
    "tangentei = pendiente*xi+b0\n",
    "\n",
    "fxa = fx(xa)\n",
    "xb = xa + dx\n",
    "fxb = fx(xb)\n",
    "\n",
    "plt.plot(xi,fi, label='f(x)')\n",
    "\n",
    "plt.plot(xi,tangentei, label='secante')\n",
    "plt.plot(xa,fx(xa),'go', label='xa')\n",
    "plt.plot(xa+dx,fx(xa+dx),'ro', label='xb')\n",
    "plt.plot((-b0/pendiente),0,'yo', label='xc')\n",
    "\n",
    "plt.plot([xa,xa],[0,fxa],'m')\n",
    "plt.plot([xb,xb],[0,fxb],'m')\n",
    "\n",
    "plt.axhline(0, color='k')\n",
    "plt.title('Método de la Secante')\n",
    "plt.legend()\n",
    "plt.grid()\n",
    "plt.show()"
   ]
  },
  {
   "cell_type": "markdown",
   "metadata": {},
   "source": [
    "# Método de Newton-Raphson"
   ]
  },
  {
   "cell_type": "code",
   "execution_count": 4,
   "metadata": {},
   "outputs": [
    {
     "name": "stdout",
     "output_type": "stream",
     "text": [
      "['xi', 'xnuevo', 'tramo']\n",
      "[[2.0000e+00 1.5000e+00 5.0000e-01]\n",
      " [1.5000e+00 1.3733e+00 1.2667e-01]\n",
      " [1.3733e+00 1.3653e+00 8.0713e-03]\n",
      " [1.3653e+00 1.3652e+00 3.2001e-05]]\n",
      "raiz en:  1.3652300139161466\n",
      "con error de:  3.200095847999407e-05\n"
     ]
    }
   ],
   "source": [
    "import numpy as np\n",
    "\n",
    "# INGRESO\n",
    "fx  = lambda x: x**3 + 4*(x**2) - 10\n",
    "dfx = lambda x: 3*(x**2) + 8*x\n",
    "\n",
    "x0 = 2\n",
    "tolera = 0.001\n",
    "\n",
    "# PROCEDIMIENTO\n",
    "tabla = []\n",
    "tramo = abs(2*tolera)\n",
    "xi = x0\n",
    "while (tramo>=tolera):\n",
    "    xnuevo = xi - fx(xi)/dfx(xi)\n",
    "    tramo  = abs(xnuevo-xi)\n",
    "    tabla.append([xi,xnuevo,tramo])\n",
    "    xi = xnuevo\n",
    "\n",
    "# convierte la lista a un arreglo.\n",
    "tabla = np.array(tabla)\n",
    "n = len(tabla)\n",
    "\n",
    "# SALIDA\n",
    "print(['xi', 'xnuevo', 'tramo'])\n",
    "np.set_printoptions(precision = 4)\n",
    "print(tabla)\n",
    "print('raiz en: ', xi)\n",
    "print('con error de: ',tramo)"
   ]
  },
  {
   "cell_type": "markdown",
   "metadata": {},
   "source": [
    "# Método de Bisección"
   ]
  },
  {
   "cell_type": "code",
   "execution_count": 5,
   "metadata": {},
   "outputs": [
    {
     "name": "stdout",
     "output_type": "stream",
     "text": [
      "[ i, a, c, b, f(a), f(c), f(b), tramo]\n",
      "1 1.000 1.500 2.000 -5.000 2.375 14.000 1.000 \n",
      "2 1.000 1.250 1.500 -5.000 -1.797 2.375 0.500 \n",
      "3 1.250 1.375 1.500 -1.797 0.162 2.375 0.250 \n",
      "4 1.250 1.312 1.375 -1.797 -0.848 0.162 0.125 \n",
      "5 1.312 1.344 1.375 -0.848 -0.351 0.162 0.062 \n",
      "6 1.344 1.359 1.375 -0.351 -0.096 0.162 0.031 \n",
      "7 1.359 1.367 1.375 -0.096 0.032 0.162 0.016 \n",
      "8 1.359 1.363 1.367 -0.096 -0.032 0.032 0.008 \n",
      "9 1.363 1.365 1.367 -0.032 0.000 0.032 0.004 \n",
      "10 1.363 1.364 1.365 -0.032 -0.016 0.000 0.002 \n",
      "11 1.364 1.365 1.365 -0.016 -0.008 0.000 0.001 \n",
      "raiz:  1.36474609375\n"
     ]
    }
   ],
   "source": [
    "import numpy as np\n",
    "\n",
    "# INGRESO\n",
    "fx = lambda x: x**3 + 4*x**2 - 10 \n",
    "a = 1\n",
    "b = 2\n",
    "tolera = 0.001\n",
    "\n",
    "# PROCEDIMIENTO\n",
    "tabla = []\n",
    "tramo = b-a\n",
    "\n",
    "fa = fx(a)\n",
    "fb = fx(b)\n",
    "i = 1\n",
    "while (tramo>tolera):\n",
    "    c = (a+b)/2\n",
    "    fc = fx(c)\n",
    "    tabla.append([i,a,c,b,fa,fc,fb,tramo])\n",
    "    i = i + 1\n",
    "                 \n",
    "    cambia = np.sign(fa)*np.sign(fc)\n",
    "    if (cambia<0):\n",
    "        b = c\n",
    "        fb = fc\n",
    "    else:\n",
    "        a=c\n",
    "        fa = fc\n",
    "    tramo = b-a\n",
    "c = (a+b)/2\n",
    "fc = fx(c)\n",
    "tabla.append([i,a,c,b,fa,fc,fb,tramo])\n",
    "tabla = np.array(tabla)\n",
    "\n",
    "raiz = c\n",
    "\n",
    "# SALIDA\n",
    "np.set_printoptions(precision = 4)\n",
    "print('[ i, a, c, b, f(a), f(c), f(b), tramo]')\n",
    "# print(tabla)\n",
    "\n",
    "# Tabla con formato\n",
    "n=len(tabla)\n",
    "for i in range(0,n,1):\n",
    "    unafila = tabla[i]\n",
    "    formato = '{:.0f}'+' '+(len(unafila)-1)*'{:.3f} '\n",
    "    unafila = formato.format(*unafila)\n",
    "    print(unafila)\n",
    "    \n",
    "print('raiz: ',raiz)"
   ]
  },
  {
   "cell_type": "markdown",
   "metadata": {},
   "source": [
    "# Método de punto fijo"
   ]
  },
  {
   "cell_type": "code",
   "execution_count": 8,
   "metadata": {},
   "outputs": [
    {
     "name": "stdout",
     "output_type": "stream",
     "text": [
      "Ingrese el valor inicial p0: 1.5\n",
      "Ingrese el error: 0.0001\n",
      "Ingrese el número de iteraciones50\n",
      "Iteracion:  1.6509636244473134\n",
      "Iteracion:  1.6322913532758982\n",
      "Iteracion:  1.6346240593972983\n",
      "Iteracion:  1.6343330008665646\n",
      "El punto fijo es  1.634369322747108 después de  5 iteraciones\n"
     ]
    },
    {
     "data": {
      "text/plain": [
       "<function matplotlib.pyplot.show(close=None, block=None)>"
      ]
     },
     "execution_count": 8,
     "metadata": {},
     "output_type": "execute_result"
    },
    {
     "data": {
      "image/png": "[encoded data removed]",
      "text/plain": [
       "<Figure size 432x288 with 1 Axes>"
      ]
     },
     "metadata": {
      "needs_background": "light"
     },
     "output_type": "display_data"
    }
   ],
   "source": [
    "import math\n",
    "import matplotlib.pyplot as plt\n",
    "import numpy as np\n",
    "\n",
    "def f(x):\n",
    "    return x**3 + x - 6\n",
    "\n",
    "def g(x):\n",
    "    return (6-x)**(1/3)\n",
    "\n",
    "p0=float(input(\"Ingrese el valor inicial p0: \"))\n",
    "tol=float(input(\"Ingrese el error: \"))\n",
    "N=int(input(\"Ingrese el número de iteraciones\"))\n",
    "i=1\n",
    "while i<N:\n",
    "    p=g(p0)\n",
    "    if abs(p-p0)<tol:\n",
    "        print(\"El punto fijo es \",p,\"después de \",i, \"iteraciones\")\n",
    "        break\n",
    "    i=i+1\n",
    "    p0=p\n",
    "    print('Iteracion: ', p0)\n",
    "    if i>N:\n",
    "        print(\"El método no converge\")\n",
    "        \n",
    "x=np.linspace(1,2,101)    \n",
    "plt.plot (x, g(x))\n",
    "plt.plot (x, f(x))\n",
    "plt.title ('punto fijo')\n",
    "plt.grid()\n",
    "plt.show"
   ]
  },
  {
   "cell_type": "markdown",
   "metadata": {},
   "source": []
  },
  {
   "cell_type": "code",
   "execution_count": null,
   "metadata": {},
   "outputs": [],
   "source": []
  }
 ],
 "metadata": {
  "kernelspec": {
   "display_name": "Python 3",
   "language": "python",
   "name": "python3"
  },
  "language_info": {
   "codemirror_mode": {
    "name": "ipython",
    "version": 3
   },
   "file_extension": ".py",
   "mimetype": "text/x-python",
   "name": "python",
   "nbconvert_exporter": "python",
   "pygments_lexer": "ipython3",
   "version": "3.8.5"
  }
 },
 "nbformat": 4,
 "nbformat_minor": 4
}
